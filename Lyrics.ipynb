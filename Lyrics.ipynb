{
  "nbformat": 4,
  "nbformat_minor": 0,
  "metadata": {
    "colab": {
      "name": "Lyrics",
      "provenance": [],
      "collapsed_sections": []
    },
    "kernelspec": {
      "name": "python3",
      "display_name": "Python 3"
    }
  },
  "cells": [
    {
      "cell_type": "code",
      "metadata": {
        "id": "2WKImWSg5bcy",
        "colab_type": "code",
        "colab": {}
      },
      "source": [
        "import requests"
      ],
      "execution_count": 3,
      "outputs": []
    },
    {
      "cell_type": "code",
      "metadata": {
        "id": "IiCM1zm36pNm",
        "colab_type": "code",
        "colab": {}
      },
      "source": [
        "data = requests.get(\"https://raw.githubusercontent.com/coding-blocks-archives/ML-Noida-2019-June-Two/master/datasets/speeches/speech.txt\")"
      ],
      "execution_count": 6,
      "outputs": []
    },
    {
      "cell_type": "code",
      "metadata": {
        "id": "fvpEyptV7HBX",
        "colab_type": "code",
        "colab": {}
      },
      "source": [
        "data = data.text"
      ],
      "execution_count": 8,
      "outputs": []
    },
    {
      "cell_type": "code",
      "metadata": {
        "id": "1A2ON5PU6-6B",
        "colab_type": "code",
        "colab": {
          "base_uri": "https://localhost:8080/",
          "height": 86
        },
        "outputId": "33d5d07d-2dc4-4eb5-bc61-f4fd9783bf08"
      },
      "source": [
        "data[0:500]"
      ],
      "execution_count": 10,
      "outputs": [
        {
          "output_type": "execute_result",
          "data": {
            "application/vnd.google.colaboratory.intrinsic+json": {
              "type": "string"
            },
            "text/plain": [
              "'26 8 2016, India\\nNiti Aayog\\nThere was a time when development was believed to depend on the quantity of capital and labour. Today we know that it depends as much on the quality of institutions and ideas. Early last year, a new institution was created, namely, the National Institution for Transforming India or NITI. NITI was created as an evidence based think tank to guide India’s transformation.\\nOne of NITI’s functions is:\\n- to mainstream external ideas into Government policies, through collabor'"
            ]
          },
          "metadata": {
            "tags": []
          },
          "execution_count": 10
        }
      ]
    },
    {
      "cell_type": "code",
      "metadata": {
        "id": "eOr-mM6p7Bc2",
        "colab_type": "code",
        "colab": {}
      },
      "source": [
        "\"hello hello helli helly helli hello\"\n",
        "\n",
        "x.        y.      freq\n",
        "\"hell\"    'o'      3\n",
        "\"ello\"    ' '      1\n",
        "\"hell\"    'i'      2\n",
        "\"hell\"    'y'      1"
      ],
      "execution_count": null,
      "outputs": []
    },
    {
      "cell_type": "code",
      "metadata": {
        "id": "iYkDGgBg-suU",
        "colab_type": "code",
        "colab": {}
      },
      "source": [
        "def transitiongeneration(data,k=4):\n",
        "  T= {}\n",
        "\n",
        "  for i in range (len(data)-k):\n",
        "    x= data[i : i+k]\n",
        "    y= data[i+k]\n",
        "\n",
        "    if T.get(x) is None:\n",
        "      T[x]= {}\n",
        "      T[x][y]= 1\n",
        "    else:\n",
        "      if T[x].get(y) is None:\n",
        "        T[x][y]= 1\n",
        "\n",
        "      else:\n",
        "        T[x][y]+= 1\n",
        "\n",
        "  return T    "
      ],
      "execution_count": 11,
      "outputs": []
    },
    {
      "cell_type": "code",
      "metadata": {
        "id": "JtAWB5uRBbJA",
        "colab_type": "code",
        "colab": {}
      },
      "source": [
        "#s=\"hello hello helli helly helli hello\"\n",
        "T= transitiongeneration(data.lower())"
      ],
      "execution_count": 13,
      "outputs": []
    },
    {
      "cell_type": "code",
      "metadata": {
        "id": "xnAYTMKBCrOI",
        "colab_type": "code",
        "colab": {}
      },
      "source": [
        "input = 'country'"
      ],
      "execution_count": 18,
      "outputs": []
    },
    {
      "cell_type": "code",
      "metadata": {
        "id": "ApZ-L_cIDdoV",
        "colab_type": "code",
        "colab": {}
      },
      "source": [
        "possible_chars = list(T[input[-4:]].keys())"
      ],
      "execution_count": 23,
      "outputs": []
    },
    {
      "cell_type": "code",
      "metadata": {
        "id": "3vi3J9NeEIvg",
        "colab_type": "code",
        "colab": {}
      },
      "source": [
        "possible_freq = list(T[input[-4:]].values())"
      ],
      "execution_count": 25,
      "outputs": []
    },
    {
      "cell_type": "code",
      "metadata": {
        "id": "FLMFvfo8Eg76",
        "colab_type": "code",
        "colab": {}
      },
      "source": [
        "probabs= []\n",
        "for ele in possible_freq:\n",
        "  x = ele/sum(possible_freq)\n",
        "  probabs.append(x)"
      ],
      "execution_count": 27,
      "outputs": []
    },
    {
      "cell_type": "code",
      "metadata": {
        "id": "t_aaeBp0FReV",
        "colab_type": "code",
        "colab": {
          "base_uri": "https://localhost:8080/",
          "height": 238
        },
        "outputId": "6b850fb4-234e-4247-eca3-edf56a1bfddf"
      },
      "source": [
        "probabs"
      ],
      "execution_count": 28,
      "outputs": [
        {
          "output_type": "execute_result",
          "data": {
            "text/plain": [
              "[0.48498845265588914,\n",
              " 0.10277136258660508,\n",
              " 0.22170900692840648,\n",
              " 0.1397228637413395,\n",
              " 0.018475750577367205,\n",
              " 0.009237875288683603,\n",
              " 0.0011547344110854503,\n",
              " 0.004618937644341801,\n",
              " 0.003464203233256351,\n",
              " 0.009237875288683603,\n",
              " 0.0011547344110854503,\n",
              " 0.0023094688221709007,\n",
              " 0.0011547344110854503]"
            ]
          },
          "metadata": {
            "tags": []
          },
          "execution_count": 28
        }
      ]
    },
    {
      "cell_type": "code",
      "metadata": {
        "id": "JDCvtIu9FpKd",
        "colab_type": "code",
        "colab": {
          "base_uri": "https://localhost:8080/",
          "height": 71
        },
        "outputId": "3ab05a00-7dec-4981-fa1d-3616936df893"
      },
      "source": [
        "print(possible_chars)\n",
        "print(probabs)"
      ],
      "execution_count": 29,
      "outputs": [
        {
          "output_type": "stream",
          "text": [
            "[' ', ',', '.', 'm', '’', \"'\", 'w', ';', '-', '?', 'a', '!', '\\n']\n",
            "[0.48498845265588914, 0.10277136258660508, 0.22170900692840648, 0.1397228637413395, 0.018475750577367205, 0.009237875288683603, 0.0011547344110854503, 0.004618937644341801, 0.003464203233256351, 0.009237875288683603, 0.0011547344110854503, 0.0023094688221709007, 0.0011547344110854503]\n"
          ],
          "name": "stdout"
        }
      ]
    },
    {
      "cell_type": "code",
      "metadata": {
        "id": "kQRskgR1Fz66",
        "colab_type": "code",
        "colab": {}
      },
      "source": [
        "import numpy as np"
      ],
      "execution_count": 30,
      "outputs": []
    },
    {
      "cell_type": "code",
      "metadata": {
        "id": "4ovoq_JUF-UA",
        "colab_type": "code",
        "colab": {}
      },
      "source": [
        "pred = np.random.choice(possible_chars, p=probabs)"
      ],
      "execution_count": 36,
      "outputs": []
    },
    {
      "cell_type": "code",
      "metadata": {
        "id": "SWI-PqhPGAkl",
        "colab_type": "code",
        "colab": {}
      },
      "source": [
        "input = input+pred"
      ],
      "execution_count": 39,
      "outputs": []
    },
    {
      "cell_type": "code",
      "metadata": {
        "id": "hamDvyzlGm30",
        "colab_type": "code",
        "colab": {
          "base_uri": "https://localhost:8080/",
          "height": 35
        },
        "outputId": "bca484e3-1df1-41a0-dea0-8769e62191dc"
      },
      "source": [
        "input"
      ],
      "execution_count": 41,
      "outputs": [
        {
          "output_type": "execute_result",
          "data": {
            "application/vnd.google.colaboratory.intrinsic+json": {
              "type": "string"
            },
            "text/plain": [
              "'country  '"
            ]
          },
          "metadata": {
            "tags": []
          },
          "execution_count": 41
        }
      ]
    },
    {
      "cell_type": "code",
      "metadata": {
        "id": "_HyRv4jpG1kH",
        "colab_type": "code",
        "colab": {}
      },
      "source": [
        "for i in range(300):\n",
        " possible_chars = list(T[input[-4:]].keys())\n",
        " possible_freq = list(T[input[-4:]].values())\n",
        " probabs=  [ele/sum(possible_freq) for ele in possible_freq]\n",
        " pred = np.random.choice(possible_chars, p=probabs)\n",
        " input = input+pred"
      ],
      "execution_count": 49,
      "outputs": []
    },
    {
      "cell_type": "code",
      "metadata": {
        "id": "LK74J0pnG214",
        "colab_type": "code",
        "colab": {
          "base_uri": "https://localhost:8080/",
          "height": 54
        },
        "outputId": "97d0c3bd-5363-4748-9ecc-67bf31f5ff59"
      },
      "source": [
        "print(input)"
      ],
      "execution_count": 50,
      "outputs": [
        {
          "output_type": "stream",
          "text": [
            "country  At they have country. Due to benefits success in ever new months, I wish you might to sleep in India. Now, the decident, the same to the cond the Povery looking undership of internal NCC, pakka raise it short sufference have to furthers as additions after biogramme appen natural transitions been extend\n"
          ],
          "name": "stdout"
        }
      ]
    }
  ]
}